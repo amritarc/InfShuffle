{
 "cells": [
  {
   "cell_type": "markdown",
   "metadata": {},
   "source": [
    "# Necessary packages and functions"
   ]
  },
  {
   "cell_type": "code",
   "execution_count": 14,
   "metadata": {},
   "outputs": [],
   "source": [
    "import numpy as np\n",
    "from matplotlib import pyplot as plt\n",
    "import matplotlib as mpl\n",
    "import itertools\n",
    "from sklearn.ensemble import RandomForestClassifier as RFC\n",
    "from sklearn.gaussian_process import GaussianProcessClassifier as GPC\n",
    "from sklearn.gaussian_process.kernels import RBF, Matern, WhiteKernel, DotProduct\n",
    "from sklearn.ensemble import AdaBoostClassifier as ABC\n",
    "from sklearn.ensemble import GradientBoostingClassifier as GBC\n",
    "from sklearn import preprocessing\n",
    "from sklearn.tree import DecisionTreeClassifier as DTC\n",
    "from sklearn.neighbors import KNeighborsClassifier as KNC\n",
    "from sklearn.calibration import CalibratedClassifierCV as CCCV\n",
    "from scipy.stats import mode\n",
    "\n",
    "import numpy as np\n",
    "from matplotlib import pyplot as plt\n",
    "from scipy.stats import multivariate_normal\n",
    "from tqdm import tqdm_notebook as tqdm\n",
    "\n",
    "import torch\n",
    "import torch.nn as nn\n",
    "import torch.optim as optim \n",
    "import torchbnn as bnn\n",
    "from torch.utils.data import DataLoader, TensorDataset\n",
    "\n",
    "def set_plot_defaults(): \n",
    "    \"\"\"Sets up default plotting values for our figures\n",
    "    \"\"\"\n",
    "    mpl.rcdefaults()\n",
    "    plt.rc('axes', labelsize=20)    # fontsize of the x and y labels\n",
    "    plt.rc('xtick', labelsize=20)    # fontsize of the tick labels\n",
    "    plt.rc('ytick', labelsize=20)    # fontsize of the tick labels\n",
    "    plt.rc('legend', fontsize=20)    # legend fontsize\n",
    "    plt.rc('figure', titlesize=20)  # fontsize of the figure title\n",
    "    plt.rc('legend', frameon = False) #don't add a box around legends\n",
    "    plt.rc('lines', linewidth = 4) #make lines thick enough to see \n",
    "    plt.rc('axes', titlesize = 30) #make titles big enough to read\n",
    "\n",
    "def RR(labels, epsilon): \n",
    "    #apply randomized response to labels \n",
    "    k = len(np.unique(labels))\n",
    "    prob_flip = (k-1) / (np.exp(epsilon) + (k-1))\n",
    "    print('prob of flip:', prob_flip)\n",
    "    flip_idx = np.random.binomial(1, prob_flip, len(labels)) == 1\n",
    "    comp_idx = np.asarray([[True]*k]*len(labels))\n",
    "    comp_idx[np.arange(len(labels))[:,None],labels] = False\n",
    "    comp = np.tile(np.arange(k), [len(labels), 1])\n",
    "    comp = np.reshape(comp[comp_idx], (len(labels), k-1))\n",
    "    choices = np.random.choice(np.arange(k-1), len(labels))\n",
    "    randsamp = comp[np.arange(len(labels)), choices]\n",
    "    labels_z = labels.copy()\n",
    "    labels_z[flip_idx] = randsamp[:,None][flip_idx]\n",
    "    return labels_z\n",
    "  \n",
    "def kNN_pred(Y, Dmat, N, i, K): \n",
    "    neighb_idx = N[i,:]\n",
    "    m = np.sum(neighb_idx)\n",
    "    if K > m: #don't let the NN prediction be larger than the group \n",
    "        K = m\n",
    "    neighb_ids = np.where(neighb_idx)[0]\n",
    "    neighb_dists = Dmat[i, neighb_ids]\n",
    "    NNs = neighb_ids[np.argsort(neighb_dists)[:K]]\n",
    "    kNN_pred_trials = mode(Y[NNs,:].astype(int), axis = 0)[0]\n",
    "    #returns kNN prediction on i for each of the ldp trials Y\n",
    "    return kNN_pred_trials\n",
    "  \n",
    "def k_vs_grp_attack(X, Y, Dmat, Distmat, R, Rcorr, K = 20, t = 0.9):\n",
    "    N = Distmat <= R #neighborhood of group\n",
    "    Ncorr = Distmat <= Rcorr #neighborhood for correlating \n",
    "    \n",
    "    n = len(X)\n",
    "    vulnerable_k = [] #list of ids that can be inferred by K\n",
    "    vulnerable_grp = [] #list of ids that can be inferred by grp \n",
    "\n",
    "    for i in range(n):\n",
    "        m = N[i,:].sum() #num neighbors\n",
    "\n",
    "        K_preds = kNN_pred(Y, Dmat, Ncorr, i, K) #prediction by K NN's for each Y trial\n",
    "        K_pred_acc = np.mean(K_preds == X[i]) #accuracy across trials\n",
    "        if K_pred_acc >= t: \n",
    "            vulnerable_k.append(i)\n",
    "\n",
    "        grp_preds = kNN_pred(Y, Dmat, N, i, K = m) #prediction by whole group for each Y trial\n",
    "        grp_pred_acc = np.mean(grp_preds == X[i]) #accuracy across trials\n",
    "        if grp_pred_acc >= t: \n",
    "            vulnerable_grp.append(i)\n",
    "            \n",
    "    return vulnerable_k, vulnerable_grp\n",
    "  \n",
    "  \n",
    "def knn_attack(T_i, T_neighb, Y_neighb, K=10):\n",
    "\n",
    "    feat_idxs = [\n",
    "      T_cols == 'PAT_AGE',\n",
    "      T_cols == 'TOTAL_CHARGES',\n",
    "      T_cols == 'ADMIT_WEEKDAY',\n",
    "      T_cols == 'LENGTH_OF_STAY',\n",
    "      (T_cols == 'KM_LAT')|(T_cols == 'KM_LON'),\n",
    "      (T_cols == 'TYPE_OF_ADMISSION_1') | (T_cols == 'TYPE_OF_ADMISSION_2') |\n",
    "      (T_cols == 'TYPE_OF_ADMISSION_3') | (T_cols == 'TYPE_OF_ADMISSION_5'),\n",
    "      (T_cols == 'SEX_CODE_F') | (T_cols == 'SEX_CODE_M')\n",
    "      ]\n",
    "    feat_names = [\n",
    "      'age',\n",
    "      'charges',\n",
    "      'weekday',\n",
    "      'length of stay',  \n",
    "      'location',  \n",
    "      'type of admission',\n",
    "      'gender'\n",
    "    ]\n",
    "    \n",
    "    if T_neighb.shape[0] < K: \n",
    "        K = T_neighb.shape[0]\n",
    "\n",
    "    #make prediction for each feature KNN clf \n",
    "    predictions = np.zeros(len(feat_idxs) + 1, dtype = int)\n",
    "        \n",
    "    for i in range(len(feat_idxs)): \n",
    "        clf = KNC(n_neighbors=K) #NN model \n",
    "        clf.fit(T_neighb[:,feat_idxs[i]], Y_neighb)\n",
    "        predictions[i] = clf.predict(T_i[feat_idxs[i]][None, :])\n",
    "\n",
    "    #make ensemble prediction: \n",
    "    predictions[-1] = np.argmax(np.bincount(predictions))\n",
    "    \n",
    "    return predictions\n",
    "\n",
    "  \n",
    "def shuffle_dataset(labels, alpha, Deltas, sig0): \n",
    "    labels_shuff = np.zeros(len(labels))\n",
    "    for sig0_, Delta in zip(sig0, Deltas): \n",
    "        labels_ = labels[sig0_]\n",
    "        if Delta > 1: \n",
    "            theta = 2 * alpha / (Delta * (Delta - 1))\n",
    "            shff_ = shuffle_graph(labels_, theta, np.argsort(np.argsort(sig0_)))\n",
    "        else: \n",
    "            shff_ = labels_\n",
    "      \n",
    "        labels_shuff[sig0_] = shff_.squeeze()\n",
    "    return labels_shuff\n",
    "  \n",
    "def shuffle_dataset_II(labels, alpha, Deltas, sig0): \n",
    "    sig_full = []\n",
    "    sig0_full = []\n",
    "    for sig0_, Delta in zip(sig0, Deltas): \n",
    "        if Delta > 1: \n",
    "            theta = 2 * alpha / (Delta * (Delta - 1))\n",
    "            sig_full = np.concatenate((sig_full, mallows(theta = theta, sig0 = sig0_)))\n",
    "        else: \n",
    "            sig_full = np.concatenate((sig_full, sig0_))\n",
    "            \n",
    "        sig0_full = np.concatenate((sig0_full, sig0_))\n",
    "      \n",
    "    sig_full = sig_full.astype(int)\n",
    "    sig0_full = sig0_full.astype(int)\n",
    "    labels_shuff = labels[sig_full[np.argsort(sig0_full)]]\n",
    "    return labels_shuff, sig_full, sig0_full\n",
    "    \n",
    "def shuffle_graph(labels, theta = 0, sig0_ = np.array([])): \n",
    "    n_pts = len(labels)\n",
    "    if sig0_.size == 0: \n",
    "        sig0_ = np.arange(n_pts)\n",
    "    sig = mallows(theta = theta, sig0 = sig0_)[np.argsort(sig0_)]\n",
    "    return labels[sig]\n",
    "  \n",
    "def mallows(theta, sig0 = []): \n",
    "  if len(sig0) == 0: \n",
    "    print('need a reference permutation')\n",
    "    return\n",
    "#   N = len(sig0) * (len(sig0) - 1) / 2\n",
    "#   if alpha > 0:\n",
    "#     theta = alpha / N\n",
    "#   print('theta is', theta)\n",
    "  phi = np.exp(-theta)\n",
    "  #get insertion probabilities \n",
    "  ws = []\n",
    "  ct = 0\n",
    "  for i in range(len(sig0)): \n",
    "    wi_ = []\n",
    "    #formula is given with index by 1\n",
    "    i = i+1\n",
    "    for j in range(i): \n",
    "      j = j+1\n",
    "      wij = phi**(i-j) * (1 - phi) / (1 - phi**i)\n",
    "      wi_.append(wij)\n",
    "      ct += 1\n",
    "    ws.append(wi_)\n",
    "\n",
    "  # sample from these ws \n",
    "  inserts = []\n",
    "  for i in range(len(sig0)): \n",
    "    #to ensure sum to 1\n",
    "    p_vals = ws[i] / np.sum(ws[i])\n",
    "    chosen_wij = np.random.choice(len(ws[i]), p = p_vals)\n",
    "    inserts.append(chosen_wij)\n",
    "    \n",
    "  #build the sampled permutation \n",
    "  pi = np.empty(0, dtype = int)\n",
    "  for i in range(len(sig0)): \n",
    "    pi = np.insert(pi, inserts[i], sig0[i])\n",
    "\n",
    "  return pi\n",
    "\n",
    "def get_sig0(T, R, Distmat, Distmat_corrs): \n",
    "    N = Distmat <= R\n",
    "    most_neighbs = np.max(np.sum(N, axis = 1))\n",
    "    print('most neighbs:', most_neighbs)\n",
    "    sig0 = []\n",
    "    n = N.shape[0]\n",
    "\n",
    "    # Visited vector \n",
    "    visited = [False] * int(n)\n",
    "\n",
    "    start = np.argmax(N.sum(axis = 1)) #start at node with largest group\n",
    "\n",
    "    while np.sum([len(sig0_) for sig0_ in sig0]) < n: \n",
    "        # Set source as visited \n",
    "        visited[start] = True\n",
    "        q = [start] \n",
    "        # Start a new sig0 for this graph: \n",
    "        sig0_ = []\n",
    "        while q: \n",
    "            vis = q[0] \n",
    "\n",
    "            # Print current node \n",
    "            sig0_.append(vis)\n",
    "            q.pop(0) \n",
    "\n",
    "            # Get every adjacent vertex to  \n",
    "            # the current vertex \n",
    "            neighbs = np.nonzero(N[vis,:])[0]\n",
    "            new_neighbs = neighbs[~np.in1d(neighbs, np.nonzero(visited)[0])]\n",
    "            if new_neighbs.any(): \n",
    "                # Sort unvisited neighbors by closest distance to the current vertex \n",
    "                dists = Distmat_corrs[vis, new_neighbs]\n",
    "#                 corrs = kernel(T[vis,:], T[new_neighbs,:]).squeeze()\n",
    "                dist_order = np.argsort(dists)\n",
    "#                 corr_order = np.argsort(corrs)[::-1]\n",
    "                new_neighbs = new_neighbs[dist_order] \n",
    "                for neighb in new_neighbs: \n",
    "                    # Push the adjacent node  \n",
    "                    # in the queue \n",
    "                    q.append(neighb) \n",
    "                    # set \n",
    "                    visited[neighb] = True\n",
    "        #if q finishes but haven't visited everyone, then we start a new graph\n",
    "        sig0.append(sig0_)\n",
    "        if np.concatenate(sig0).size < n: \n",
    "            start = np.argmax(~np.asarray(visited)) #get first non-visited index \n",
    "\n",
    "    Deltas = [] #records Delta for each subgraph \n",
    "    for sig0_ in sig0: \n",
    "        if np.size(sig0_) > 1: \n",
    "            deltas = []\n",
    "            for k in range(len(sig0_)): \n",
    "                neighbs = np.nonzero(N[sig0_[k],:])[0]\n",
    "                neighbs_idx = np.where(np.in1d(sig0_, neighbs))[0]\n",
    "                newdelt = (np.max(neighbs_idx ) - np.min(neighbs_idx)) + 1\n",
    "                deltas.append(newdelt)\n",
    "            Deltas.append(np.max(deltas))\n",
    "        else: \n",
    "            Deltas.append(1)\n",
    "    return sig0, Deltas\n",
    "  \n",
    "def county_error(labels, T, T_cols, X): \n",
    "    cnty = T_cols == 'COUNTY'\n",
    "    counties = np.unique(T[:,cnty])\n",
    "    count_diffs = []\n",
    "    for county in counties: \n",
    "        cnty_idx = (T[:,cnty] == county).squeeze()\n",
    "        label_cts = np.zeros(4)\n",
    "        label_cty = labels[cnty_idx]\n",
    "        label_bcts = np.bincount(label_cty.astype(int))\n",
    "        label_cts[0:len(label_bcts)] = label_bcts\n",
    "\n",
    "        true_cts = np.zeros(4)\n",
    "        true_cty = X[cnty_idx]\n",
    "        true_bcts = np.bincount(true_cty.astype(int))\n",
    "        true_cts[0:len(true_bcts)] = true_bcts\n",
    "\n",
    "        count_diffs.append( np.abs(label_cts - true_cts).sum()/np.sum(true_cts) )\n",
    "        \n",
    "    return np.asarray(count_diffs)\n",
    "  \n",
    "def get_calibration_TVD(y_vals, x_vals, Distmat, R_calib, T_locat, cv,\n",
    "                        base_clf = RFC()):\n",
    "    #Train calib model on noisy data, and predict\n",
    "#     base_clf = RFC(min_samples_leaf=min_samples_leaf)\n",
    "    calib = CCCV(base_estimator=base_clf, cv=cv)\n",
    "    calib.fit(T_locat, y_vals)\n",
    "    calib_hists = calib.predict_proba(T_locat)\n",
    "\n",
    "#     #Get calibration neighbors \n",
    "#     N = Distmat <= R_calib\n",
    "#     #Get calibration hists\n",
    "#     tgt_hists = np.zeros((len(x_vals), 4))\n",
    "#     for i in range(len(x_vals)): \n",
    "#         neighb_idx = N[i,:]\n",
    "#         labels = x_vals[neighb_idx]\n",
    "#         hist = np.zeros(4)\n",
    "#         hist_cts = np.bincount(labels)\n",
    "#         hist[:len(hist_cts)] = hist_cts / len(labels)\n",
    "#         tgt_hists[i,:] = hist\n",
    "\n",
    "#     #total variation distance is half sum of difference across label probs\n",
    "#     TV = np.abs(calib_hists - tgt_hists).sum(axis = 1)\n",
    "\n",
    "    TV = get_TVD(calib_hists, Distmat, R_calib, T_locat, x_vals)\n",
    "    return TV\n",
    "  \n",
    "def get_TVD(calib_hists, Distmat, R_calib, T_locat, x_vals): \n",
    "    #Get calibration neighbors \n",
    "    N = Distmat <= R_calib\n",
    "    #Get calibration hists\n",
    "    tgt_hists = np.zeros((len(x_vals), 4))\n",
    "    for i in range(len(x_vals)): \n",
    "        neighb_idx = N[i,:]\n",
    "        labels = x_vals[neighb_idx]\n",
    "        hist = np.zeros(4)\n",
    "        hist_cts = np.bincount(labels)\n",
    "        hist[:len(hist_cts)] = hist_cts / len(labels)\n",
    "        tgt_hists[i,:] = hist\n",
    "        \n",
    "    TVs = 0.5 * np.abs(calib_hists - tgt_hists).sum(axis = 1)\n",
    "    return TVs"
   ]
  },
  {
   "cell_type": "code",
   "execution_count": 15,
   "metadata": {},
   "outputs": [],
   "source": [
    "set_plot_defaults()"
   ]
  },
  {
   "cell_type": "markdown",
   "metadata": {},
   "source": [
    "# Get data"
   ]
  },
  {
   "cell_type": "code",
   "execution_count": 16,
   "metadata": {},
   "outputs": [],
   "source": [
    "#get data:\n",
    "#as reminder of X codes: \n",
    "#0) CHARITY/INDIGENT\n",
    "#1) MEDICARE\n",
    "#2) MEDICAID/GOVT PRGRM (VA/CHAMPUS/nonfederal)\n",
    "#3) COMMERCIAL INSRNC/POS/PPO/HMO/Workers Comp/Automobile/indemnity/EPO\n",
    "\n",
    "np.random.seed(seed = 0)\n",
    "\n",
    "T_tr = np.load('./X_tr_lg_county.npy')\n",
    "X_tr = np.load('./Y_tr_lg_county.npy')\n",
    "T_te = np.load('./X_te_lg_county.npy')\n",
    "X_te = np.load('./Y_te_lg_county.npy')\n",
    "\n",
    "T_cols = np.load('./featnames_lg_county.npy', allow_pickle=True)\n",
    "\n",
    "\n",
    "X = np.concatenate((X_tr, X_te), axis = 0)\n",
    "T = np.concatenate((T_tr, T_te), axis = 0)"
   ]
  },
  {
   "cell_type": "code",
   "execution_count": 17,
   "metadata": {
    "scrolled": false
   },
   "outputs": [
    {
     "data": {
      "image/png": "[encoded data removed]",
      "text/plain": [
       "<Figure size 640x480 with 1 Axes>"
      ]
     },
     "metadata": {},
     "output_type": "display_data"
    }
   ],
   "source": [
    "plt.hist(X)\n",
    "plt.show()"
   ]
  },
  {
   "cell_type": "code",
   "execution_count": 18,
   "metadata": {
    "scrolled": true
   },
   "outputs": [
    {
     "name": "stdout",
     "output_type": "stream",
     "text": [
      "prob of flip: 0.19759599495081878\n",
      "prob of flip: 0.19759599495081878\n",
      "prob of flip: 0.19759599495081878\n",
      "prob of flip: 0.19759599495081878\n",
      "prob of flip: 0.19759599495081878\n",
      "prob of flip: 0.19759599495081878\n",
      "prob of flip: 0.19759599495081878\n",
      "prob of flip: 0.19759599495081878\n",
      "prob of flip: 0.19759599495081878\n",
      "prob of flip: 0.19759599495081878\n",
      "prob of flip: 0.19759599495081878\n",
      "prob of flip: 0.19759599495081878\n",
      "prob of flip: 0.19759599495081878\n",
      "prob of flip: 0.19759599495081878\n",
      "prob of flip: 0.19759599495081878\n",
      "prob of flip: 0.19759599495081878\n",
      "prob of flip: 0.19759599495081878\n",
      "prob of flip: 0.19759599495081878\n",
      "prob of flip: 0.19759599495081878\n",
      "prob of flip: 0.19759599495081878\n",
      "prob of flip: 0.19759599495081878\n",
      "prob of flip: 0.19759599495081878\n",
      "prob of flip: 0.19759599495081878\n",
      "prob of flip: 0.19759599495081878\n",
      "prob of flip: 0.19759599495081878\n",
      "prob of flip: 0.19759599495081878\n",
      "prob of flip: 0.19759599495081878\n",
      "prob of flip: 0.19759599495081878\n",
      "prob of flip: 0.19759599495081878\n",
      "prob of flip: 0.19759599495081878\n",
      "prob of flip: 0.19759599495081878\n",
      "prob of flip: 0.19759599495081878\n",
      "prob of flip: 0.19759599495081878\n",
      "prob of flip: 0.19759599495081878\n",
      "prob of flip: 0.19759599495081878\n",
      "prob of flip: 0.19759599495081878\n",
      "prob of flip: 0.19759599495081878\n",
      "prob of flip: 0.19759599495081878\n",
      "prob of flip: 0.19759599495081878\n",
      "prob of flip: 0.19759599495081878\n",
      "prob of flip: 0.19759599495081878\n",
      "prob of flip: 0.19759599495081878\n",
      "prob of flip: 0.19759599495081878\n",
      "prob of flip: 0.19759599495081878\n",
      "prob of flip: 0.19759599495081878\n",
      "prob of flip: 0.19759599495081878\n",
      "prob of flip: 0.19759599495081878\n",
      "prob of flip: 0.19759599495081878\n",
      "prob of flip: 0.19759599495081878\n",
      "prob of flip: 0.19759599495081878\n",
      "Frac unperturbed 0.8032615513276187\n"
     ]
    }
   ],
   "source": [
    "#make multiple trials \n",
    "n_trials = 50\n",
    "Y = np.zeros((len(X), n_trials))\n",
    "for i in range(n_trials): \n",
    "    Y[:,i] = RR(X[:,None], epsilon = 2.5).squeeze()\n",
    "print('Frac unperturbed', np.mean( Y[:,0] == X) )"
   ]
  },
  {
   "cell_type": "code",
   "execution_count": 19,
   "metadata": {},
   "outputs": [
    {
     "data": {
      "image/png": "[encoded data removed]",
      "text/plain": [
       "<Figure size 640x480 with 1 Axes>"
      ]
     },
     "metadata": {},
     "output_type": "display_data"
    }
   ],
   "source": [
    "plt.hist(Y[:,0])\n",
    "plt.show()"
   ]
  },
  {
   "cell_type": "code",
   "execution_count": null,
   "metadata": {},
   "outputs": [],
   "source": []
  },
  {
   "cell_type": "markdown",
   "metadata": {},
   "source": [
    "# Find groups $\\mathcal{G}$"
   ]
  },
  {
   "cell_type": "code",
   "execution_count": 20,
   "metadata": {
    "scrolled": true
   },
   "outputs": [
    {
     "data": {
      "text/plain": [
       "(28698, 2)"
      ]
     },
     "execution_count": 20,
     "metadata": {},
     "output_type": "execute_result"
    }
   ],
   "source": [
    "T_locs = np.concatenate((T[:,T_cols == 'KM_LAT'], T[:,T_cols == 'KM_LON']), axis = 1)\n",
    "T_locs.shape"
   ]
  },
  {
   "cell_type": "code",
   "execution_count": 21,
   "metadata": {},
   "outputs": [],
   "source": [
    "R = 20 #km\n",
    "Dx = T_locs[:,0][:,None] - T_locs[:,0][:,None].T\n",
    "Dy = T_locs[:,1][:,None] - T_locs[:,1][:,None].T\n",
    "Distmat = np.sqrt(Dx**2 + Dy**2)\n",
    "N = Distmat <= R #adjacency matrix of group graph"
   ]
  },
  {
   "cell_type": "code",
   "execution_count": 22,
   "metadata": {},
   "outputs": [
    {
     "name": "stdout",
     "output_type": "stream",
     "text": [
      "3280\n",
      "1\n",
      "976.8793644156387\n",
      "771.0\n",
      "860.8677639871621\n"
     ]
    }
   ],
   "source": [
    "#neighbor statistics \n",
    "n_neighbs = np.sum(N, axis = 1)\n",
    "print(n_neighbs.max())\n",
    "print(n_neighbs.min())\n",
    "print(n_neighbs.mean())\n",
    "print(np.median(n_neighbs))\n",
    "print(np.std(n_neighbs))"
   ]
  },
  {
   "cell_type": "code",
   "execution_count": 23,
   "metadata": {},
   "outputs": [],
   "source": [
    "#For each individual, \n",
    "#For each noisy sample, \n",
    "#Get predictions\n",
    "feat = 'TOTAL_CHARGES' #feature used to make NN prediction \n",
    "T_feat = T[:,T_cols == feat]\n",
    "Dmat = np.abs(T_feat - T_feat.T) #distance matrix of feature between individuals\n",
    "assert Dmat.shape[0] == Dmat.shape[1]"
   ]
  },
  {
   "cell_type": "markdown",
   "metadata": {},
   "source": [
    "# Generate permutations for several trials and radii"
   ]
  },
  {
   "cell_type": "code",
   "execution_count": 28,
   "metadata": {},
   "outputs": [
    {
     "name": "stdout",
     "output_type": "stream",
     "text": [
      "sample perms\n"
     ]
    },
    {
     "name": "stderr",
     "output_type": "stream",
     "text": [
      "<ipython-input-28-e88c3cf5d4d4>:14: TqdmDeprecationWarning: This function will be removed in tqdm==5.0.0\n",
      "Please use `tqdm.notebook.tqdm` instead of `tqdm.tqdm_notebook`\n",
      "  for trial in tqdm(range(n_trials)):\n"
     ]
    },
    {
     "data": {
      "application/vnd.jupyter.widget-view+json": {
       "model_id": "e71f5885141c46968173dc470d740d9f",
       "version_major": 2,
       "version_minor": 0
      },
      "text/plain": [
       "  0%|          | 0/10 [00:00<?, ?it/s]"
      ]
     },
     "metadata": {},
     "output_type": "display_data"
    }
   ],
   "source": [
    "r_vals = np.asarray([0., 10., 20., 30., 40., 50., 60., 70., 80.])\n",
    "n_trials = 10        \n",
    "alpha = 4\n",
    "\n",
    "print('get reference perms')\n",
    "sig0s = {}\n",
    "delts = {}\n",
    "for R in tqdm(r_vals): \n",
    "    sig0, Deltas = get_sig0(T_locs, R, Distmat, Distmat)\n",
    "    sig0s[R] = sig0\n",
    "    delts[R] = Deltas\n",
    "\n",
    "print('sample perms')\n",
    "for trial in tqdm(range(n_trials)): \n",
    "    for R in r_vals:\n",
    "        Deltas = delts[R]\n",
    "        sig0 = sig0s[R]\n",
    "        labels_pshuff, sig_full, sig0_full = shuffle_dataset_II(Y[:,0], alpha, \n",
    "                                                                Deltas, sig0)\n",
    "        np.save('./permutations_trials/sigmasamp_R{0:.3f}_n{1:n}'\\\n",
    "                .format(R, trial), sig_full)\n",
    "        \n",
    "    np.save('./permutations_trials/sigma0_R{0:.3f}_n{1:n}'\\\n",
    "                .format(R, trial), sig0_full)"
   ]
  },
  {
   "cell_type": "code",
   "execution_count": null,
   "metadata": {},
   "outputs": [],
   "source": []
  },
  {
   "cell_type": "code",
   "execution_count": 35,
   "metadata": {},
   "outputs": [
    {
     "name": "stdout",
     "output_type": "stream",
     "text": [
      "get reference perms\n"
     ]
    },
    {
     "name": "stderr",
     "output_type": "stream",
     "text": [
      "<ipython-input-35-13cdf8cc2e9c>:43: TqdmDeprecationWarning: This function will be removed in tqdm==5.0.0\n",
      "Please use `tqdm.notebook.tqdm` instead of `tqdm.tqdm_notebook`\n",
      "  for trial in tqdm(range(n_trials)):\n"
     ]
    },
    {
     "data": {
      "application/vnd.jupyter.widget-view+json": {
       "model_id": "a5fdf875410b4f29a175df5c94314d88",
       "version_major": 2,
       "version_minor": 0
      },
      "text/plain": [
       "  0%|          | 0/10 [00:00<?, ?it/s]"
      ]
     },
     "metadata": {},
     "output_type": "display_data"
    }
   ],
   "source": [
    "# r_vals = np.linspace(0, 1000, 5)\n",
    "r_vals = np.asarray([0., 10., 20., 30., 40., 50., 60., 70., 80.])\n",
    "n_trials = 10  \n",
    "\n",
    "shuff_idx = np.arange(Y.shape[0])\n",
    "np.random.shuffle(shuff_idx)\n",
    "Y_shuff = Y[shuff_idx, :]\n",
    "\n",
    "Rcorr = 20 #attack radius\n",
    "K = 20 \n",
    "\n",
    "alpha = 4\n",
    "\n",
    "def print_stats(vuln_k, vuln_grp): \n",
    "    print(\"Num KNN'd:\", len(vuln_k))\n",
    "    print(\"Num Grp'd:\", len(vuln_grp))\n",
    "    gap = len(vuln_k) - np.in1d(vuln_k, vuln_grp).sum() #number KNN'd but not GRP'd\n",
    "    print(\"Num KNN'd not Grp'd:\", gap)\n",
    "  \n",
    "#key is radius, value is (vuln_k_*, vuln_grp_*)\n",
    "\n",
    "\n",
    "R = 0.01 #Doesn't matter -- just for running LDP and uniform shuff, which only care abt R_corr\n",
    "\n",
    "print(\"getting result for just LDP...\")\n",
    "vuln_k_LDP, vuln_grp_LDP = k_vs_grp_attack(X, Y, Dmat, Distmat, \n",
    "                                                   R, Rcorr, K = K, t = 0.9)\n",
    "    \n",
    "print(\"getting result for uniform shuffling...\")\n",
    "vuln_k_shuff, vuln_grp_shuff = k_vs_grp_attack(X, Y_shuff, Dmat, Distmat, \n",
    "                                                   R, Rcorr, K = K, t = 0.9)\n",
    "\n",
    "n_trials = 10\n",
    "vuln_pshuff_trials = np.zeros((len(r_vals), n_trials))\n",
    "for trial in tqdm(range(n_trials)): \n",
    "    vuln_pshuff = {}\n",
    "    for R in r_vals: \n",
    "        sig0_full = np.load('./permutations_trials/sigma0_R{0:.3f}.npy'\\\n",
    "                .format(R, trial))\n",
    "        sig_full = np.load('./permutations_trials/sigmasamp_R{0:.3f}_n{1:n}.npy'\\\n",
    "                .format(R, trial))\n",
    "\n",
    "        Y_pshuff = Y[sig_full[np.argsort(sig0_full)], :]\n",
    "\n",
    "        vuln_k_pshuff, vuln_grp_pshuff = k_vs_grp_attack(X, Y_pshuff, Dmat, Distmat, \n",
    "                                                       R, Rcorr, K = K, t = 0.9)\n",
    "\n",
    "\n",
    "        vuln_pshuff_trials[r_vals == R, trial] = len(vuln_k_pshuff) / len(T) #fraction inferred\n",
    "        \n"
   ]
  },
  {
   "cell_type": "code",
   "execution_count": 36,
   "metadata": {},
   "outputs": [],
   "source": [
    "attack_mn = vuln_pshuff_trials.mean(axis = 1)\n",
    "attack_st = vuln_pshuff_trials.std(axis = 1)\n",
    "\n",
    "LDP_attack = len(vuln_k_LDP) / len(T)\n",
    "shuff_attack = len(vuln_k_shuff) / len(T)"
   ]
  },
  {
   "cell_type": "code",
   "execution_count": 39,
   "metadata": {},
   "outputs": [],
   "source": [
    "np.save('./Texas_attack_mean_trials.npy', attack_mn)\n",
    "np.save('./Texas_attack_std_trials.npy', attack_st)\n",
    "np.save('./Texas_radii_trials.npy', r_vals)\n",
    "np.save('./Texas_attack_LDP_trials.npy', np.ones(len(r_vals)) * LDP_attack)\n",
    "np.save('./Texas_attack_shuff_trials.npy', np.ones(len(r_vals)) * shuff_attack)"
   ]
  },
  {
   "cell_type": "code",
   "execution_count": null,
   "metadata": {},
   "outputs": [],
   "source": []
  },
  {
   "cell_type": "code",
   "execution_count": 37,
   "metadata": {},
   "outputs": [
    {
     "data": {
      "image/png": "[encoded data removed]",
      "text/plain": [
       "<Figure size 640x480 with 1 Axes>"
      ]
     },
     "metadata": {},
     "output_type": "display_data"
    }
   ],
   "source": [
    "plt.plot(r_vals, attack_mn, '-o', label = \"Mallows\", color = 'black')\n",
    "plt.fill_between(r_vals, attack_mn + attack_st, attack_mn - attack_st, alpha = 0.2)\n",
    "plt.plot(r_vals, np.ones(len(r_vals)) * LDP_attack, '--', label = \"LDP\", alpha = 0.5, color = 'tomato')\n",
    "plt.plot(r_vals, np.ones(len(r_vals)) * shuff_attack, '--', label = \"Unif. Shuff.\", alpha = 0.5, color = 'seagreen')\n",
    "plt.plot(np.ones(10)*Rcorr, np.linspace(shuff_attack, LDP_attack, 10), '--', \n",
    "         alpha = 0.5, color = 'gray', linewidth = 2)\n",
    "plt.legend(loc = 'right')\n",
    "plt.title('Resistance to $k$-NN Attack')\n",
    "plt.xlabel('Priv. Radius $r$')\n",
    "plt.ylabel('Frac. Inferred')\n",
    "plt.show()"
   ]
  },
  {
   "cell_type": "markdown",
   "metadata": {},
   "source": [
    "# Get TV utility over trials "
   ]
  },
  {
   "cell_type": "code",
   "execution_count": 43,
   "metadata": {},
   "outputs": [
    {
     "name": "stdout",
     "output_type": "stream",
     "text": [
      "LDP TV: 0.11054783220383387\n",
      "Unif. shuff. TV: 0.18981278474103286\n",
      "Oblivious TV: 0.21881090718958396\n"
     ]
    },
    {
     "name": "stderr",
     "output_type": "stream",
     "text": [
      "<ipython-input-43-72a190801855>:33: TqdmDeprecationWarning: This function will be removed in tqdm==5.0.0\n",
      "Please use `tqdm.notebook.tqdm` instead of `tqdm.tqdm_notebook`\n",
      "  for trial in tqdm(range(n_trials)):\n"
     ]
    },
    {
     "data": {
      "application/vnd.jupyter.widget-view+json": {
       "model_id": "23240136762f44bcbefaa87f4059247f",
       "version_major": 2,
       "version_minor": 0
      },
      "text/plain": [
       "  0%|          | 0/10 [00:00<?, ?it/s]"
      ]
     },
     "metadata": {},
     "output_type": "display_data"
    }
   ],
   "source": [
    "#Get LDP utility:\n",
    "set_plot_defaults()\n",
    "r_vals = np.asarray([0., 10., 20., 30., 40., 50., 60., 70., 80.])\n",
    "n_trials = 10  \n",
    "\n",
    "#Get LDP utility: \n",
    "R_calib = 20\n",
    "cv = 3\n",
    "msl = 100\n",
    "\n",
    "lr = 0.1\n",
    "\n",
    "LDP_TV = get_calibration_TVD(Y[:,0], X, Distmat, R_calib, T_locs, cv = cv, \n",
    "                        base_clf=GBC(min_samples_leaf = msl, learning_rate = lr)).mean()\n",
    "\n",
    "print('LDP TV:', LDP_TV)\n",
    "\n",
    "Y_unishuffle_idx = np.arange(len(Y[:,0]))\n",
    "np.random.shuffle(Y_unishuffle_idx)\n",
    "Y_unishuffle = Y[Y_unishuffle_idx,0]\n",
    "\n",
    "Unif_shuff_TV = get_calibration_TVD(Y_unishuffle, X, Distmat, R_calib, T_locs, cv = cv, \n",
    "                        base_clf=GBC(min_samples_leaf = msl, learning_rate = lr)).mean()\n",
    "\n",
    "print('Unif. shuff. TV:', Unif_shuff_TV)\n",
    "\n",
    "oblivious = np.ones((len(X), 4)) / 4\n",
    "oblivious_TV = get_TVD(oblivious, Distmat, R_calib, T_locs, X).mean()\n",
    "print('Oblivious TV:', oblivious_TV)\n",
    "\n",
    "r_shuff_TV = np.zeros((len(r_vals), n_trials))\n",
    "\n",
    "for trial in tqdm(range(n_trials)): \n",
    "    for r in r_vals: \n",
    "        ref_perm = np.load('./permutations_trials/sigma0_R{0:.3f}.npy'\\\n",
    "                .format(r))\n",
    "        samp_perm = np.load('./permutations_trials/sigmasamp_R{0:.3f}_n{1:n}.npy'\\\n",
    "                .format(r, trial))\n",
    "        Y_shuffle = Y[samp_perm[np.argsort(ref_perm)], 0]\n",
    "\n",
    "        r_shuff_TV[r_vals == r, trial] = get_calibration_TVD(Y_shuffle, X, Distmat, R_calib, T_locs, cv = cv, \n",
    "                            base_clf=GBC(min_samples_leaf = msl, learning_rate = lr)).mean()\n",
    "    "
   ]
  },
  {
   "cell_type": "code",
   "execution_count": 48,
   "metadata": {},
   "outputs": [],
   "source": [
    "TV_shuff_mn = (r_shuff_TV/oblivious_TV).mean(axis = 1)\n",
    "TV_shuff_st = (r_shuff_TV/oblivious_TV).std(axis = 1)"
   ]
  },
  {
   "cell_type": "code",
   "execution_count": 50,
   "metadata": {},
   "outputs": [],
   "source": [
    "np.save('./Texas_utility_mean_trials.npy', TV_shuff_mn)\n",
    "np.save('./Texas_utility_std_trials.npy', TV_shuff_st)\n",
    "np.save('./Texas_radii_trials.npy', r_vals)\n",
    "np.save('./Texas_utility_LDP_trials.npy', np.ones(len(r_vals)) * LDP_TV / oblivious_TV)\n",
    "np.save('./Texas_utility_shuff_trials.npy', np.ones(len(r_vals)) * Unif_shuff_TV / oblivious_TV)"
   ]
  },
  {
   "cell_type": "code",
   "execution_count": 49,
   "metadata": {},
   "outputs": [
    {
     "data": {
      "image/png": "[encoded data removed]",
      "text/plain": [
       "<Figure size 640x480 with 1 Axes>"
      ]
     },
     "metadata": {},
     "output_type": "display_data"
    }
   ],
   "source": [
    "plt.plot(r_vals, TV_shuff_mn, '-o', label = \"Mallows\", color = 'black')\n",
    "plt.fill_between(r_vals, TV_shuff_mn + TV_shuff_st, TV_shuff_mn - TV_shuff_st, alpha = 0.2)\n",
    "plt.plot(r_vals, np.ones(len(r_vals)) * LDP_TV / oblivious_TV, '--', label = \"LDP\", alpha = 0.5, color = 'tomato')\n",
    "plt.plot(r_vals, np.ones(len(r_vals)) * Unif_shuff_TV / oblivious_TV, '--', label = \"Unif. Shuff.\", alpha = 0.5, color = 'seagreen')\n",
    "plt.legend(loc = 'right')\n",
    "plt.title('TV_utility')\n",
    "plt.xlabel('Priv. Radius $r$')\n",
    "plt.ylabel('Ave TV')\n",
    "plt.show()"
   ]
  },
  {
   "cell_type": "code",
   "execution_count": null,
   "metadata": {},
   "outputs": [],
   "source": []
  },
  {
   "cell_type": "code",
   "execution_count": null,
   "metadata": {},
   "outputs": [],
   "source": []
  }
 ],
 "metadata": {
  "kernelspec": {
   "display_name": "Python 3",
   "language": "python",
   "name": "python3"
  },
  "language_info": {
   "codemirror_mode": {
    "name": "ipython",
    "version": 3
   },
   "file_extension": ".py",
   "mimetype": "text/x-python",
   "name": "python",
   "nbconvert_exporter": "python",
   "pygments_lexer": "ipython3",
   "version": "3.8.1"
  }
 },
 "nbformat": 4,
 "nbformat_minor": 4
}
